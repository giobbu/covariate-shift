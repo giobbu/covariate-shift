{
 "cells": [
  {
   "cell_type": "markdown",
   "id": "cb87d101",
   "metadata": {},
   "source": [
    "# Likelihood Ratio Test Analysis"
   ]
  },
  {
   "cell_type": "code",
   "execution_count": null,
   "id": "e1b762a2",
   "metadata": {},
   "outputs": [],
   "source": [
    "import sys\n",
    "sys.path.append(\"path/to/main_folder\")"
   ]
  },
  {
   "cell_type": "code",
   "execution_count": null,
   "id": "dcf92cae",
   "metadata": {},
   "outputs": [],
   "source": [
    "import numpy as np\n",
    "from scipy.stats import multivariate_normal\n",
    "from source.ratio import LLR_test"
   ]
  },
  {
   "cell_type": "markdown",
   "id": "fa446881",
   "metadata": {},
   "source": [
    "## generate data with drift"
   ]
  },
  {
   "cell_type": "code",
   "execution_count": null,
   "id": "d9e9a95c",
   "metadata": {},
   "outputs": [],
   "source": [
    "# multivariate normal distribution parameters\n",
    "mu_before = np.array([0, 0])\n",
    "sigma_before = np.array([[1, 0], [0, 1]])\n",
    "x_before = multivariate_normal.rvs(mean=mu_before, cov=sigma_before, size=500)\n",
    "# generate new samples from a different distribution\n",
    "mu_after = np.array([0, 0])\n",
    "sigma_after = np.array([[1, 0], [0, 1]])\n",
    "x_after = multivariate_normal.rvs(mean=mu_after, cov=sigma_after, size=500)"
   ]
  },
  {
   "cell_type": "markdown",
   "id": "37ed53bf",
   "metadata": {},
   "source": [
    "## init likelihood ratio test"
   ]
  },
  {
   "cell_type": "code",
   "execution_count": null,
   "id": "c0a30664",
   "metadata": {},
   "outputs": [],
   "source": [
    "bandwidth = 0.5\n",
    "lr_statistic, _, p_value = LLR_test(x_before, x_after, bandwidth=bandwidth)\n",
    "print(f'LLR test')\n",
    "print(f'Statistic: {lr_statistic}, p-value: {p_value}')"
   ]
  },
  {
   "cell_type": "markdown",
   "id": "c5604e4d",
   "metadata": {},
   "source": [
    "## bandwidth sensitivity"
   ]
  },
  {
   "cell_type": "code",
   "execution_count": null,
   "id": "893c4d27",
   "metadata": {},
   "outputs": [],
   "source": [
    "# Demonstrate bandwidth sensitivity for test1\n",
    "print(\"\\nBandwidth Sensitivity Analysis: (No Drift Simulated)\")\n",
    "bandwidths = [0.1, 0.5, 0.7, 1.0]\n",
    "alphas = [0.01]\n",
    "print(f\"---- Alpha={alphas[0]:.2f}\")\n",
    "print(\"-\" * 50)\n",
    "list_likelihood_ratios = []\n",
    "list_p_values = []\n",
    "for bw in bandwidths:\n",
    "    lr_statistic, _, p_value = LLR_test(x_before, x_after, bandwidth=bw)\n",
    "    list_likelihood_ratios.append(lr_statistic)\n",
    "    list_p_values.append(p_value)\n",
    "    print(' ')\n",
    "    print(f\"Bandwidth {bw:.1f}\")\n",
    "    is_drift = p_value < alphas[0]\n",
    "    print(f\"Drift Detected = {is_drift} (p-value={p_value:.6f}, LR={lr_statistic:.2f})\")"
   ]
  },
  {
   "cell_type": "markdown",
   "id": "3ccd53e1",
   "metadata": {},
   "source": [
    "## considering different significance levels"
   ]
  },
  {
   "cell_type": "code",
   "execution_count": null,
   "id": "fe1971f9",
   "metadata": {},
   "outputs": [],
   "source": [
    "import matplotlib.pyplot as plt\n",
    "\n",
    "# plot horizontal line at alpha levels [0.01, 0.05, 0.1]\n",
    "alphas = [0.01, 0.05, 0.1]\n",
    "fig, axs = plt.subplots(2, 1, figsize=(10, 8))\n",
    "axs[0].scatter(bandwidths, list_likelihood_ratios, color='blue')\n",
    "axs[0].set_title('Log-Likelihood Ratios for Different Bandwidths')\n",
    "axs[0].set_xlabel('Bandwidth')\n",
    "axs[0].set_ylabel('Likelihood Ratio')\n",
    "axs[1].scatter(bandwidths, list_p_values, color='green')\n",
    "for alpha in alphas:\n",
    "    axs[1].axhline(y=alpha, color='red', linestyle='--', label=f'Alpha={alpha}')\n",
    "axs[1].set_title('p-values for Different Bandwidths')\n",
    "axs[1].set_xlabel('Bandwidth')\n",
    "axs[1].set_ylabel('p-value')\n",
    "plt.tight_layout()\n",
    "plt.show()"
   ]
  }
 ],
 "metadata": {
  "kernelspec": {
   "display_name": "cov-shift",
   "language": "python",
   "name": "python3"
  },
  "language_info": {
   "codemirror_mode": {
    "name": "ipython",
    "version": 3
   },
   "file_extension": ".py",
   "mimetype": "text/x-python",
   "name": "python",
   "nbconvert_exporter": "python",
   "pygments_lexer": "ipython3",
   "version": "3.9.21"
  }
 },
 "nbformat": 4,
 "nbformat_minor": 5
}
