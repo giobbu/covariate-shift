{
 "cells": [
  {
   "cell_type": "markdown",
   "id": "641837cc",
   "metadata": {},
   "source": [
    "# Mean Maximum Discrepancy Two-sampole Test\n",
    "#### Reference https://jmlr.csail.mit.edu/papers/v13/gretton12a.html"
   ]
  },
  {
   "cell_type": "code",
   "execution_count": null,
   "id": "bdd0af7b",
   "metadata": {},
   "outputs": [],
   "source": [
    "import sys\n",
    "sys.path.append(\"path/to/main_folder\")"
   ]
  },
  {
   "cell_type": "code",
   "execution_count": null,
   "id": "ac7b4dad",
   "metadata": {},
   "outputs": [],
   "source": [
    "import numpy as np\n",
    "from scipy.stats import multivariate_normal\n",
    "from source.mmd import MMD_test"
   ]
  },
  {
   "cell_type": "markdown",
   "id": "0db1ba83",
   "metadata": {},
   "source": [
    "## generate some data with drift"
   ]
  },
  {
   "cell_type": "code",
   "execution_count": null,
   "id": "07af3acf",
   "metadata": {},
   "outputs": [],
   "source": [
    "# multivariate normal distribution parameters\n",
    "mu_before = np.array([0, 0])\n",
    "sigma_before = np.array([[1, 0], [0, 1]])\n",
    "x_before = multivariate_normal.rvs(mean=mu_before, cov=sigma_before, size=500)\n",
    "# generate new samples from a different distribution\n",
    "mu_after = np.array([0, 0])\n",
    "sigma_after = np.array([[1, 0], [0, 1]])\n",
    "x_after = multivariate_normal.rvs(mean=mu_after, cov=sigma_after, size=500)"
   ]
  },
  {
   "cell_type": "markdown",
   "id": "e88d257c",
   "metadata": {},
   "source": [
    "## set sigma and init MMD"
   ]
  },
  {
   "cell_type": "code",
   "execution_count": null,
   "id": "73c0a9b1",
   "metadata": {},
   "outputs": [],
   "source": [
    "sigma = 1.0\n",
    "mmd_statistic, mmd_perms, pval = MMD_test(x_before, x_after, sigma, n_permutations=1000)\n",
    "print(\"MMD test\")\n",
    "print(f\"Statistic: {mmd_statistic}, p-value: {pval}\")"
   ]
  },
  {
   "cell_type": "markdown",
   "id": "f52d239a",
   "metadata": {},
   "source": [
    "## plot null distribution"
   ]
  },
  {
   "cell_type": "code",
   "execution_count": null,
   "id": "2afdb308",
   "metadata": {},
   "outputs": [],
   "source": [
    "from source.utils import plot_mmd_null_distribution\n",
    "\n",
    "plot_mmd_null_distribution(mmd_perms, mmd_statistic, output_path=\"imgs/mmd_null_distribution_nodrift.png\")"
   ]
  },
  {
   "cell_type": "markdown",
   "id": "3054ea0f",
   "metadata": {},
   "source": [
    "## visually inspect bivariate drift"
   ]
  },
  {
   "cell_type": "code",
   "execution_count": null,
   "id": "83019d3a",
   "metadata": {},
   "outputs": [],
   "source": [
    "from source.utils import plot_bivariate_drift\n",
    "\n",
    "plot_bivariate_drift(x_before, x_after, output_path=\"imgs/mmd_bivariate_drift_nodrift.png\")"
   ]
  },
  {
   "cell_type": "code",
   "execution_count": null,
   "id": "64f0fd4f",
   "metadata": {},
   "outputs": [],
   "source": [
    "from source.utils import plot_pdf_drift\n",
    "\n",
    "plot_pdf_drift(x_before, x_after, output_path=\"imgs/mmd_pdf_drift_nodrift.png\")"
   ]
  },
  {
   "cell_type": "markdown",
   "id": "fb40704f",
   "metadata": {},
   "source": [
    "# simulate drift"
   ]
  },
  {
   "cell_type": "code",
   "execution_count": null,
   "id": "eaa4ad74",
   "metadata": {},
   "outputs": [],
   "source": [
    "# Example with normal distribution with different means\n",
    "mu_before = np.array([0, 0])\n",
    "sigma_before = np.array([[1, 0], [0, 1]])\n",
    "x_before = multivariate_normal.rvs(mean=mu_before, cov=sigma_before, size=500)\n",
    "# generate new samples from a different distribution\n",
    "mu_after = np.array([1, 1])\n",
    "sigma_after = np.array([[1, 0], [0, 1]])\n",
    "x_after = multivariate_normal.rvs(mean=mu_after, cov=sigma_after, size=500)\n",
    "\n",
    "# Calculate MMD\n",
    "sigma = 1.0\n",
    "mmd_statistic, mmd_perms, pval = MMD_test(x_before, x_after, sigma, n_permutations=1000)\n",
    "print(\"MMD test\")\n",
    "print(f\"Statistic: {mmd_statistic}, p-value: {pval}\")\n",
    "\n",
    "# Plot the null distribution and the observed MMD\n",
    "plot_mmd_null_distribution(mmd_perms, mmd_statistic, output_path=\"imgs/mmd_null_distribution_drift.png\")\n",
    "\n",
    "# Plot the bivariate drift\n",
    "plot_bivariate_drift(x_before, x_after, output_path=\"imgs/mmd_bivariate_drift_drift.png\")\n",
    "\n",
    "# Plot the PDF drift\n",
    "plot_pdf_drift(x_before, x_after, output_path=\"imgs/mmd_pdf_drift.png\", plot_overlap=True)"
   ]
  }
 ],
 "metadata": {
  "kernelspec": {
   "display_name": "cov-shift",
   "language": "python",
   "name": "python3"
  },
  "language_info": {
   "codemirror_mode": {
    "name": "ipython",
    "version": 3
   },
   "file_extension": ".py",
   "mimetype": "text/x-python",
   "name": "python",
   "nbconvert_exporter": "python",
   "pygments_lexer": "ipython3",
   "version": "3.9.21"
  }
 },
 "nbformat": 4,
 "nbformat_minor": 5
}
